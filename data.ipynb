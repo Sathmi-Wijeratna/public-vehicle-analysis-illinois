{
 "cells": [
  {
   "cell_type": "code",
   "execution_count": null,
   "metadata": {},
   "outputs": [
    {
     "name": "stdout",
     "output_type": "stream",
     "text": [
      "Found 9 CSV files.\n",
      "Combined DataFrame saved to 'combined_vehicles_data.csv'.\n"
     ]
    }
   ],
   "source": [
    "import pandas as pd\n",
    "import glob\n",
    "\n",
    "# Define the directory where your CSV files are stored\n",
    "csv_directory = \"./PassengerVehicle_Stats/\"  # Replace with the directory path\n",
    "\n",
    "# Use glob to load all CSV files in the directory into a list\n",
    "csv_files = glob.glob(csv_directory + \"*.csv\")\n",
    "try:\n",
    "        # Check if we have 9 files and load them into a list\n",
    "    if len(csv_files) == 9:\n",
    "        print(f\"Found {len(csv_files)} CSV files.\")\n",
    "        \n",
    "        # Load all CSV files into a list of DataFrames\n",
    "        csv_data_list = [pd.read_csv(file) for file in csv_files]\n",
    "\n",
    "        # Concatenate the list of DataFrames into a single DataFrame\n",
    "        vehicles_df = pd.concat(csv_data_list, ignore_index=True)\n",
    "\n",
    "\n",
    "        # Optionally, save the combined DataFrame to a new CSV file\n",
    "        vehicles_df.to_csv(\"combined_vehicles_data.csv\", index=False)\n",
    "        print(\"Combined DataFrame saved to 'combined_vehicles_data.csv'.\")\n",
    "    else:\n",
    "        print(f\"Expected 9 CSV files, but found {len(csv_files)}. Please check your directory.\")\n",
    "\n"
   ]
  }
 ],
 "metadata": {
  "kernelspec": {
   "display_name": "base",
   "language": "python",
   "name": "python3"
  },
  "language_info": {
   "codemirror_mode": {
    "name": "ipython",
    "version": 3
   },
   "file_extension": ".py",
   "mimetype": "text/x-python",
   "name": "python",
   "nbconvert_exporter": "python",
   "pygments_lexer": "ipython3",
   "version": "3.12.7"
  }
 },
 "nbformat": 4,
 "nbformat_minor": 2
}
